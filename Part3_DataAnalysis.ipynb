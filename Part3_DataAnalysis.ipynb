{
 "cells": [
  {
   "cell_type": "markdown",
   "metadata": {},
   "source": [
    "## Part 2 - Data Analysis"
   ]
  },
  {
   "cell_type": "markdown",
   "metadata": {},
   "source": [
    "The data for used in this notebook can be created and found by running the 'Part 2 - Data Cleaning' notebook."
   ]
  },
  {
   "cell_type": "code",
   "execution_count": 1,
   "metadata": {},
   "outputs": [],
   "source": [
    "import numpy as np\n",
    "import pandas as pd\n",
    "import matplotlib as mpl\n",
    "import matplotlib.pyplot as plt\n",
    "import sklearn\n",
    "from sklearn.model_selection import train_test_split\n",
    "import seaborn as sns\n",
    "import warnings\n",
    "warnings.filterwarnings('ignore')"
   ]
  },
  {
   "cell_type": "markdown",
   "metadata": {},
   "source": [
    "## Import the cleaned dataset"
   ]
  },
  {
   "cell_type": "code",
   "execution_count": 2,
   "metadata": {},
   "outputs": [
    {
     "data": {
      "text/html": [
       "<div>\n",
       "<style scoped>\n",
       "    .dataframe tbody tr th:only-of-type {\n",
       "        vertical-align: middle;\n",
       "    }\n",
       "\n",
       "    .dataframe tbody tr th {\n",
       "        vertical-align: top;\n",
       "    }\n",
       "\n",
       "    .dataframe thead th {\n",
       "        text-align: right;\n",
       "    }\n",
       "</style>\n",
       "<table border=\"1\" class=\"dataframe\">\n",
       "  <thead>\n",
       "    <tr style=\"text-align: right;\">\n",
       "      <th></th>\n",
       "      <th>Unnamed: 0</th>\n",
       "      <th>age</th>\n",
       "      <th>hoursPerWeek</th>\n",
       "      <th>x0_Federal-gov</th>\n",
       "      <th>x0_Local-gov</th>\n",
       "      <th>x0_Private</th>\n",
       "      <th>x0_Self-emp-inc</th>\n",
       "      <th>x0_Self-emp-not-inc</th>\n",
       "      <th>x0_State-gov</th>\n",
       "      <th>x0_Without-pay</th>\n",
       "      <th>...</th>\n",
       "      <th>x0_Tech-support</th>\n",
       "      <th>x0_Transport-moving</th>\n",
       "      <th>x0_Amer-Indian-Eskimo</th>\n",
       "      <th>x0_Asian-Pac-Islander</th>\n",
       "      <th>x0_Black</th>\n",
       "      <th>x0_Other</th>\n",
       "      <th>x0_White</th>\n",
       "      <th>x0_Female</th>\n",
       "      <th>x0_Male</th>\n",
       "      <th>income</th>\n",
       "    </tr>\n",
       "  </thead>\n",
       "  <tbody>\n",
       "    <tr>\n",
       "      <th>0</th>\n",
       "      <td>0</td>\n",
       "      <td>-1.026694</td>\n",
       "      <td>-0.078962</td>\n",
       "      <td>0.0</td>\n",
       "      <td>0.0</td>\n",
       "      <td>1.0</td>\n",
       "      <td>0.0</td>\n",
       "      <td>0.0</td>\n",
       "      <td>0.0</td>\n",
       "      <td>0.0</td>\n",
       "      <td>...</td>\n",
       "      <td>0.0</td>\n",
       "      <td>0.0</td>\n",
       "      <td>0.0</td>\n",
       "      <td>0.0</td>\n",
       "      <td>1.0</td>\n",
       "      <td>0.0</td>\n",
       "      <td>0.0</td>\n",
       "      <td>0.0</td>\n",
       "      <td>1.0</td>\n",
       "      <td>0</td>\n",
       "    </tr>\n",
       "    <tr>\n",
       "      <th>1</th>\n",
       "      <td>1</td>\n",
       "      <td>-0.042154</td>\n",
       "      <td>0.753612</td>\n",
       "      <td>0.0</td>\n",
       "      <td>0.0</td>\n",
       "      <td>1.0</td>\n",
       "      <td>0.0</td>\n",
       "      <td>0.0</td>\n",
       "      <td>0.0</td>\n",
       "      <td>0.0</td>\n",
       "      <td>...</td>\n",
       "      <td>0.0</td>\n",
       "      <td>0.0</td>\n",
       "      <td>0.0</td>\n",
       "      <td>0.0</td>\n",
       "      <td>0.0</td>\n",
       "      <td>0.0</td>\n",
       "      <td>1.0</td>\n",
       "      <td>0.0</td>\n",
       "      <td>1.0</td>\n",
       "      <td>0</td>\n",
       "    </tr>\n",
       "    <tr>\n",
       "      <th>2</th>\n",
       "      <td>2</td>\n",
       "      <td>-0.799493</td>\n",
       "      <td>-0.078962</td>\n",
       "      <td>0.0</td>\n",
       "      <td>1.0</td>\n",
       "      <td>0.0</td>\n",
       "      <td>0.0</td>\n",
       "      <td>0.0</td>\n",
       "      <td>0.0</td>\n",
       "      <td>0.0</td>\n",
       "      <td>...</td>\n",
       "      <td>0.0</td>\n",
       "      <td>0.0</td>\n",
       "      <td>0.0</td>\n",
       "      <td>0.0</td>\n",
       "      <td>0.0</td>\n",
       "      <td>0.0</td>\n",
       "      <td>1.0</td>\n",
       "      <td>0.0</td>\n",
       "      <td>1.0</td>\n",
       "      <td>1</td>\n",
       "    </tr>\n",
       "    <tr>\n",
       "      <th>3</th>\n",
       "      <td>3</td>\n",
       "      <td>0.412250</td>\n",
       "      <td>-0.078962</td>\n",
       "      <td>0.0</td>\n",
       "      <td>0.0</td>\n",
       "      <td>1.0</td>\n",
       "      <td>0.0</td>\n",
       "      <td>0.0</td>\n",
       "      <td>0.0</td>\n",
       "      <td>0.0</td>\n",
       "      <td>...</td>\n",
       "      <td>0.0</td>\n",
       "      <td>0.0</td>\n",
       "      <td>0.0</td>\n",
       "      <td>0.0</td>\n",
       "      <td>1.0</td>\n",
       "      <td>0.0</td>\n",
       "      <td>0.0</td>\n",
       "      <td>0.0</td>\n",
       "      <td>1.0</td>\n",
       "      <td>1</td>\n",
       "    </tr>\n",
       "    <tr>\n",
       "      <th>4</th>\n",
       "      <td>4</td>\n",
       "      <td>-0.345089</td>\n",
       "      <td>-0.911536</td>\n",
       "      <td>0.0</td>\n",
       "      <td>0.0</td>\n",
       "      <td>1.0</td>\n",
       "      <td>0.0</td>\n",
       "      <td>0.0</td>\n",
       "      <td>0.0</td>\n",
       "      <td>0.0</td>\n",
       "      <td>...</td>\n",
       "      <td>0.0</td>\n",
       "      <td>0.0</td>\n",
       "      <td>0.0</td>\n",
       "      <td>0.0</td>\n",
       "      <td>0.0</td>\n",
       "      <td>0.0</td>\n",
       "      <td>1.0</td>\n",
       "      <td>0.0</td>\n",
       "      <td>1.0</td>\n",
       "      <td>0</td>\n",
       "    </tr>\n",
       "  </tbody>\n",
       "</table>\n",
       "<p>5 rows × 55 columns</p>\n",
       "</div>"
      ],
      "text/plain": [
       "   Unnamed: 0       age  hoursPerWeek  x0_Federal-gov  x0_Local-gov  \\\n",
       "0           0 -1.026694     -0.078962             0.0           0.0   \n",
       "1           1 -0.042154      0.753612             0.0           0.0   \n",
       "2           2 -0.799493     -0.078962             0.0           1.0   \n",
       "3           3  0.412250     -0.078962             0.0           0.0   \n",
       "4           4 -0.345089     -0.911536             0.0           0.0   \n",
       "\n",
       "   x0_Private  x0_Self-emp-inc  x0_Self-emp-not-inc  x0_State-gov  \\\n",
       "0         1.0              0.0                  0.0           0.0   \n",
       "1         1.0              0.0                  0.0           0.0   \n",
       "2         0.0              0.0                  0.0           0.0   \n",
       "3         1.0              0.0                  0.0           0.0   \n",
       "4         1.0              0.0                  0.0           0.0   \n",
       "\n",
       "   x0_Without-pay  ...  x0_Tech-support  x0_Transport-moving  \\\n",
       "0             0.0  ...              0.0                  0.0   \n",
       "1             0.0  ...              0.0                  0.0   \n",
       "2             0.0  ...              0.0                  0.0   \n",
       "3             0.0  ...              0.0                  0.0   \n",
       "4             0.0  ...              0.0                  0.0   \n",
       "\n",
       "   x0_Amer-Indian-Eskimo  x0_Asian-Pac-Islander  x0_Black  x0_Other  x0_White  \\\n",
       "0                    0.0                    0.0       1.0       0.0       0.0   \n",
       "1                    0.0                    0.0       0.0       0.0       1.0   \n",
       "2                    0.0                    0.0       0.0       0.0       1.0   \n",
       "3                    0.0                    0.0       1.0       0.0       0.0   \n",
       "4                    0.0                    0.0       0.0       0.0       1.0   \n",
       "\n",
       "   x0_Female  x0_Male  income  \n",
       "0        0.0      1.0       0  \n",
       "1        0.0      1.0       0  \n",
       "2        0.0      1.0       1  \n",
       "3        0.0      1.0       1  \n",
       "4        0.0      1.0       0  \n",
       "\n",
       "[5 rows x 55 columns]"
      ]
     },
     "execution_count": 2,
     "metadata": {},
     "output_type": "execute_result"
    }
   ],
   "source": [
    "adult = pd.read_csv('../Data Cleaning/adult_modified.csv')\n",
    "adult.head()"
   ]
  },
  {
   "cell_type": "code",
   "execution_count": 3,
   "metadata": {},
   "outputs": [
    {
     "data": {
      "text/plain": [
       "Index(['Unnamed: 0', 'age', 'hoursPerWeek', 'x0_Federal-gov', 'x0_Local-gov',\n",
       "       'x0_Private', 'x0_Self-emp-inc', 'x0_Self-emp-not-inc', 'x0_State-gov',\n",
       "       'x0_Without-pay', 'x0_10th', 'x0_11th', 'x0_12th', 'x0_1st-4th',\n",
       "       'x0_5th-6th', 'x0_7th-8th', 'x0_9th', 'x0_Assoc-acdm', 'x0_Assoc-voc',\n",
       "       'x0_Bachelors', 'x0_Doctorate', 'x0_HS-grad', 'x0_Masters',\n",
       "       'x0_Preschool', 'x0_Prof-school', 'x0_Some-college', 'x0_Divorced',\n",
       "       'x0_Married-AF-spouse', 'x0_Married-civ-spouse',\n",
       "       'x0_Married-spouse-absent', 'x0_Never-married', 'x0_Separated',\n",
       "       'x0_Widowed', 'x0_Adm-clerical', 'x0_Armed-Forces', 'x0_Craft-repair',\n",
       "       'x0_Exec-managerial', 'x0_Farming-fishing', 'x0_Handlers-cleaners',\n",
       "       'x0_Machine-op-inspct', 'x0_Other-service', 'x0_Priv-house-serv',\n",
       "       'x0_Prof-specialty', 'x0_Protective-serv', 'x0_Sales',\n",
       "       'x0_Tech-support', 'x0_Transport-moving', 'x0_Amer-Indian-Eskimo',\n",
       "       'x0_Asian-Pac-Islander', 'x0_Black', 'x0_Other', 'x0_White',\n",
       "       'x0_Female', 'x0_Male', 'income'],\n",
       "      dtype='object')"
      ]
     },
     "execution_count": 3,
     "metadata": {},
     "output_type": "execute_result"
    }
   ],
   "source": [
    "adult.columns"
   ]
  },
  {
   "cell_type": "code",
   "execution_count": 4,
   "metadata": {},
   "outputs": [
    {
     "data": {
      "text/html": [
       "<div>\n",
       "<style scoped>\n",
       "    .dataframe tbody tr th:only-of-type {\n",
       "        vertical-align: middle;\n",
       "    }\n",
       "\n",
       "    .dataframe tbody tr th {\n",
       "        vertical-align: top;\n",
       "    }\n",
       "\n",
       "    .dataframe thead th {\n",
       "        text-align: right;\n",
       "    }\n",
       "</style>\n",
       "<table border=\"1\" class=\"dataframe\">\n",
       "  <thead>\n",
       "    <tr style=\"text-align: right;\">\n",
       "      <th></th>\n",
       "      <th>age</th>\n",
       "      <th>hoursPerWeek</th>\n",
       "      <th>x0_Federal-gov</th>\n",
       "      <th>x0_Local-gov</th>\n",
       "      <th>x0_Private</th>\n",
       "      <th>x0_Self-emp-inc</th>\n",
       "      <th>x0_Self-emp-not-inc</th>\n",
       "      <th>x0_State-gov</th>\n",
       "      <th>x0_Without-pay</th>\n",
       "      <th>x0_10th</th>\n",
       "      <th>...</th>\n",
       "      <th>x0_Tech-support</th>\n",
       "      <th>x0_Transport-moving</th>\n",
       "      <th>x0_Amer-Indian-Eskimo</th>\n",
       "      <th>x0_Asian-Pac-Islander</th>\n",
       "      <th>x0_Black</th>\n",
       "      <th>x0_Other</th>\n",
       "      <th>x0_White</th>\n",
       "      <th>x0_Female</th>\n",
       "      <th>x0_Male</th>\n",
       "      <th>income</th>\n",
       "    </tr>\n",
       "  </thead>\n",
       "  <tbody>\n",
       "    <tr>\n",
       "      <th>0</th>\n",
       "      <td>-1.026694</td>\n",
       "      <td>-0.078962</td>\n",
       "      <td>0.0</td>\n",
       "      <td>0.0</td>\n",
       "      <td>1.0</td>\n",
       "      <td>0.0</td>\n",
       "      <td>0.0</td>\n",
       "      <td>0.0</td>\n",
       "      <td>0.0</td>\n",
       "      <td>0.0</td>\n",
       "      <td>...</td>\n",
       "      <td>0.0</td>\n",
       "      <td>0.0</td>\n",
       "      <td>0.0</td>\n",
       "      <td>0.0</td>\n",
       "      <td>1.0</td>\n",
       "      <td>0.0</td>\n",
       "      <td>0.0</td>\n",
       "      <td>0.0</td>\n",
       "      <td>1.0</td>\n",
       "      <td>0</td>\n",
       "    </tr>\n",
       "    <tr>\n",
       "      <th>1</th>\n",
       "      <td>-0.042154</td>\n",
       "      <td>0.753612</td>\n",
       "      <td>0.0</td>\n",
       "      <td>0.0</td>\n",
       "      <td>1.0</td>\n",
       "      <td>0.0</td>\n",
       "      <td>0.0</td>\n",
       "      <td>0.0</td>\n",
       "      <td>0.0</td>\n",
       "      <td>0.0</td>\n",
       "      <td>...</td>\n",
       "      <td>0.0</td>\n",
       "      <td>0.0</td>\n",
       "      <td>0.0</td>\n",
       "      <td>0.0</td>\n",
       "      <td>0.0</td>\n",
       "      <td>0.0</td>\n",
       "      <td>1.0</td>\n",
       "      <td>0.0</td>\n",
       "      <td>1.0</td>\n",
       "      <td>0</td>\n",
       "    </tr>\n",
       "    <tr>\n",
       "      <th>2</th>\n",
       "      <td>-0.799493</td>\n",
       "      <td>-0.078962</td>\n",
       "      <td>0.0</td>\n",
       "      <td>1.0</td>\n",
       "      <td>0.0</td>\n",
       "      <td>0.0</td>\n",
       "      <td>0.0</td>\n",
       "      <td>0.0</td>\n",
       "      <td>0.0</td>\n",
       "      <td>0.0</td>\n",
       "      <td>...</td>\n",
       "      <td>0.0</td>\n",
       "      <td>0.0</td>\n",
       "      <td>0.0</td>\n",
       "      <td>0.0</td>\n",
       "      <td>0.0</td>\n",
       "      <td>0.0</td>\n",
       "      <td>1.0</td>\n",
       "      <td>0.0</td>\n",
       "      <td>1.0</td>\n",
       "      <td>1</td>\n",
       "    </tr>\n",
       "    <tr>\n",
       "      <th>3</th>\n",
       "      <td>0.412250</td>\n",
       "      <td>-0.078962</td>\n",
       "      <td>0.0</td>\n",
       "      <td>0.0</td>\n",
       "      <td>1.0</td>\n",
       "      <td>0.0</td>\n",
       "      <td>0.0</td>\n",
       "      <td>0.0</td>\n",
       "      <td>0.0</td>\n",
       "      <td>0.0</td>\n",
       "      <td>...</td>\n",
       "      <td>0.0</td>\n",
       "      <td>0.0</td>\n",
       "      <td>0.0</td>\n",
       "      <td>0.0</td>\n",
       "      <td>1.0</td>\n",
       "      <td>0.0</td>\n",
       "      <td>0.0</td>\n",
       "      <td>0.0</td>\n",
       "      <td>1.0</td>\n",
       "      <td>1</td>\n",
       "    </tr>\n",
       "    <tr>\n",
       "      <th>4</th>\n",
       "      <td>-0.345089</td>\n",
       "      <td>-0.911536</td>\n",
       "      <td>0.0</td>\n",
       "      <td>0.0</td>\n",
       "      <td>1.0</td>\n",
       "      <td>0.0</td>\n",
       "      <td>0.0</td>\n",
       "      <td>0.0</td>\n",
       "      <td>0.0</td>\n",
       "      <td>1.0</td>\n",
       "      <td>...</td>\n",
       "      <td>0.0</td>\n",
       "      <td>0.0</td>\n",
       "      <td>0.0</td>\n",
       "      <td>0.0</td>\n",
       "      <td>0.0</td>\n",
       "      <td>0.0</td>\n",
       "      <td>1.0</td>\n",
       "      <td>0.0</td>\n",
       "      <td>1.0</td>\n",
       "      <td>0</td>\n",
       "    </tr>\n",
       "  </tbody>\n",
       "</table>\n",
       "<p>5 rows × 54 columns</p>\n",
       "</div>"
      ],
      "text/plain": [
       "        age  hoursPerWeek  x0_Federal-gov  x0_Local-gov  x0_Private  \\\n",
       "0 -1.026694     -0.078962             0.0           0.0         1.0   \n",
       "1 -0.042154      0.753612             0.0           0.0         1.0   \n",
       "2 -0.799493     -0.078962             0.0           1.0         0.0   \n",
       "3  0.412250     -0.078962             0.0           0.0         1.0   \n",
       "4 -0.345089     -0.911536             0.0           0.0         1.0   \n",
       "\n",
       "   x0_Self-emp-inc  x0_Self-emp-not-inc  x0_State-gov  x0_Without-pay  \\\n",
       "0              0.0                  0.0           0.0             0.0   \n",
       "1              0.0                  0.0           0.0             0.0   \n",
       "2              0.0                  0.0           0.0             0.0   \n",
       "3              0.0                  0.0           0.0             0.0   \n",
       "4              0.0                  0.0           0.0             0.0   \n",
       "\n",
       "   x0_10th  ...  x0_Tech-support  x0_Transport-moving  x0_Amer-Indian-Eskimo  \\\n",
       "0      0.0  ...              0.0                  0.0                    0.0   \n",
       "1      0.0  ...              0.0                  0.0                    0.0   \n",
       "2      0.0  ...              0.0                  0.0                    0.0   \n",
       "3      0.0  ...              0.0                  0.0                    0.0   \n",
       "4      1.0  ...              0.0                  0.0                    0.0   \n",
       "\n",
       "   x0_Asian-Pac-Islander  x0_Black  x0_Other  x0_White  x0_Female  x0_Male  \\\n",
       "0                    0.0       1.0       0.0       0.0        0.0      1.0   \n",
       "1                    0.0       0.0       0.0       1.0        0.0      1.0   \n",
       "2                    0.0       0.0       0.0       1.0        0.0      1.0   \n",
       "3                    0.0       1.0       0.0       0.0        0.0      1.0   \n",
       "4                    0.0       0.0       0.0       1.0        0.0      1.0   \n",
       "\n",
       "   income  \n",
       "0       0  \n",
       "1       0  \n",
       "2       1  \n",
       "3       1  \n",
       "4       0  \n",
       "\n",
       "[5 rows x 54 columns]"
      ]
     },
     "execution_count": 4,
     "metadata": {},
     "output_type": "execute_result"
    }
   ],
   "source": [
    "# Delete the first column because it is reiterating indexes\n",
    "adult.drop(columns = ['Unnamed: 0'], inplace = True)\n",
    "adult.head()"
   ]
  },
  {
   "cell_type": "markdown",
   "metadata": {},
   "source": [
    "## Creating x and y Variables"
   ]
  },
  {
   "cell_type": "code",
   "execution_count": 5,
   "metadata": {},
   "outputs": [
    {
     "data": {
      "text/plain": [
       "array([[-1.02669442, -0.0789619 ,  0.        , ...,  0.        ,\n",
       "         0.        ,  1.        ],\n",
       "       [-0.04215355,  0.75361249,  0.        , ...,  1.        ,\n",
       "         0.        ,  1.        ],\n",
       "       [-0.79949268, -0.0789619 ,  0.        , ...,  1.        ,\n",
       "         0.        ,  1.        ],\n",
       "       ...,\n",
       "       [ 1.47252472, -0.0789619 ,  0.        , ...,  1.        ,\n",
       "         1.        ,  0.        ],\n",
       "       [-1.25389616, -1.74411069,  0.        , ...,  1.        ,\n",
       "         0.        ,  1.        ],\n",
       "       [ 1.01812124, -0.0789619 ,  0.        , ...,  1.        ,\n",
       "         1.        ,  0.        ]])"
      ]
     },
     "execution_count": 5,
     "metadata": {},
     "output_type": "execute_result"
    }
   ],
   "source": [
    "x = adult.iloc[:, :-1].values\n",
    "x"
   ]
  },
  {
   "cell_type": "code",
   "execution_count": 6,
   "metadata": {},
   "outputs": [
    {
     "data": {
      "text/plain": [
       "(46033, 53)"
      ]
     },
     "execution_count": 6,
     "metadata": {},
     "output_type": "execute_result"
    }
   ],
   "source": [
    "x.shape\n",
    "# Same number of rows and all the features, except the response variable."
   ]
  },
  {
   "cell_type": "code",
   "execution_count": 7,
   "metadata": {},
   "outputs": [
    {
     "data": {
      "text/plain": [
       "array([0, 0, 1, ..., 0, 0, 1])"
      ]
     },
     "execution_count": 7,
     "metadata": {},
     "output_type": "execute_result"
    }
   ],
   "source": [
    "# Since the response variable is a categorical binary variable, let us label encode it so that the results are in binary form.\n",
    "y = adult.iloc[:, -1].values.astype(int)\n",
    "y"
   ]
  },
  {
   "cell_type": "code",
   "execution_count": 8,
   "metadata": {},
   "outputs": [
    {
     "data": {
      "text/plain": [
       "(46033,)"
      ]
     },
     "execution_count": 8,
     "metadata": {},
     "output_type": "execute_result"
    }
   ],
   "source": [
    "y.shape\n",
    "# all the rows and just one variable, the response."
   ]
  },
  {
   "cell_type": "markdown",
   "metadata": {},
   "source": [
    "## Splitting Dataset into Test and Training Set"
   ]
  },
  {
   "cell_type": "code",
   "execution_count": 9,
   "metadata": {},
   "outputs": [
    {
     "name": "stdout",
     "output_type": "stream",
     "text": [
      "Train set: (36826, 53) (36826,)\n",
      "Test set: (9207, 53) (9207,)\n"
     ]
    }
   ],
   "source": [
    "x_train, x_test, y_train, y_test = train_test_split(x, y, test_size = 0.2, random_state = 4)\n",
    "print('Train set:', x_train.shape, y_train.shape)\n",
    "print('Test set:', x_test.shape, y_test.shape)"
   ]
  },
  {
   "cell_type": "markdown",
   "metadata": {},
   "source": [
    "The training datasets are the ones that will be used to train the decision tree classifier and the KNN classifiers.\n",
    "The test dataset (which is smaller than the training sets) will be used to check the accuracy of the models."
   ]
  },
  {
   "cell_type": "markdown",
   "metadata": {},
   "source": [
    "## Tree Based Classifier"
   ]
  },
  {
   "cell_type": "code",
   "execution_count": 10,
   "metadata": {},
   "outputs": [
    {
     "data": {
      "text/plain": [
       "array([1, 1, 0, ..., 0, 0, 0])"
      ]
     },
     "execution_count": 10,
     "metadata": {},
     "output_type": "execute_result"
    }
   ],
   "source": [
    "from sklearn import tree\n",
    "from sklearn.metrics import confusion_matrix, accuracy_score\n",
    "\n",
    "treeClassifier = tree.DecisionTreeClassifier()\n",
    "treeClassifier = treeClassifier.fit(x_train, y_train)\n",
    "y_predict = treeClassifier.predict(x_test)\n",
    "y_predict # this shows the predicted values of the y-test values according to the model"
   ]
  },
  {
   "cell_type": "markdown",
   "metadata": {},
   "source": [
    "### Accuracy Evaluation"
   ]
  },
  {
   "cell_type": "code",
   "execution_count": 11,
   "metadata": {},
   "outputs": [
    {
     "name": "stdout",
     "output_type": "stream",
     "text": [
      "Training set accuracy: 0.96\n",
      "Test set accuracy: 0.78\n"
     ]
    }
   ],
   "source": [
    "train_accuracy = accuracy_score(y_train, treeClassifier.predict(x_train))\n",
    "test_accuracy = accuracy_score(y_test, y_predict)\n",
    "\n",
    "print('Training set accuracy:', round(train_accuracy, 2))\n",
    "print('Test set accuracy:', round(test_accuracy, 2))"
   ]
  },
  {
   "cell_type": "markdown",
   "metadata": {},
   "source": [
    "The decision tree classifer has a relatively low accuracy. The classifer correctly predicted 96% of the training set y-values. However, the classifer only correctly predicts 78% of the y-values in the test set. \n",
    "This shows that the decision tree classification is not the opitmal machine learning model for this dataset."
   ]
  },
  {
   "cell_type": "markdown",
   "metadata": {},
   "source": [
    "### Confusion Matrix"
   ]
  },
  {
   "cell_type": "code",
   "execution_count": 12,
   "metadata": {
    "scrolled": true
   },
   "outputs": [
    {
     "name": "stdout",
     "output_type": "stream",
     "text": [
      "[[6036  934]\n",
      " [1081 1156]]\n"
     ]
    }
   ],
   "source": [
    "labels = [0,1]\n",
    "cm = confusion_matrix(y_test, y_predict, labels)\n",
    "print(cm)"
   ]
  },
  {
   "cell_type": "markdown",
   "metadata": {},
   "source": [
    "Confusion matrix:\n",
    "\n",
    "                Actual 0.  Actual 1\n",
    "           \n",
    "    Predicted 0 [6025          945]\n",
    "\n",
    "\n",
    "    Predicted 1 [1073         1164]\n",
    "\n",
    "\n",
    "Accuracy= [Predicted 0 and Actual 0] # + [Predicted 1 and Actual 1] # / Total popullation\n",
    "        = 6024+1166/9207 = 0.781\n",
    "        \n",
    "Error= [Predicted 1 but Actual 0] # + [Predicted 0 and Actual 1] # / Total popullation\n",
    "     = 1071+946/9207 = 0.219\n",
    "     \n",
    "Precision= [Predicted 0 and Actual 0]/[Predicted 0 and Actual 0]+[Predicted 0 and Actual 1]\n",
    "         = 6024/6024+946 = 0.86\n",
    "         \n",
    "Recall= [Predicted 0 and Actual 0]/[Predicted 0 and Actual 0]+[Predicted 1 and Actual 0]\n",
    "      = 6024/6024+1071 = 0.849\n",
    "      \n",
    "Type I error= [Predicted 0 and Actual 1]= 946\n",
    "Type II error= [Predicted 1 and Actual 0]=1071"
   ]
  },
  {
   "cell_type": "code",
   "execution_count": 13,
   "metadata": {},
   "outputs": [
    {
     "data": {
      "image/png": "[encoded data removed]",
      "text/plain": [
       "<Figure size 432x288 with 2 Axes>"
      ]
     },
     "metadata": {
      "needs_background": "light"
     },
     "output_type": "display_data"
    }
   ],
   "source": [
    "group_names = ['True Neg', 'False Pos', 'False Neg', 'True Pos']\n",
    "group_counts = [\"{0:0.0f}\".format(value) for value in\n",
    "                cm.flatten()]\n",
    "group_percentages = [\"{0:.2%}\".format(value) for value in\n",
    "                     cm.flatten()/np.sum(cm)]\n",
    "labels = [f\"{v1}\\n{v2}\\n{v3}\" for v1, v2, v3 in\n",
    "          zip(group_names,group_counts,group_percentages)]\n",
    "labels = np.asarray(labels).reshape(2,2)\n",
    "sns.heatmap(cm, annot=labels, fmt='', cmap='Blues')\n",
    "plt.savefig('Decision_CM')"
   ]
  },
  {
   "cell_type": "markdown",
   "metadata": {},
   "source": [
    "Due to this low accuracy score of the decision tree classifier, we will try the KNN classifier to see if it can predict the response varibale more accurately."
   ]
  },
  {
   "cell_type": "markdown",
   "metadata": {},
   "source": [
    "## KNN Classifier"
   ]
  },
  {
   "cell_type": "code",
   "execution_count": 14,
   "metadata": {},
   "outputs": [
    {
     "data": {
      "text/plain": [
       "KNeighborsClassifier(n_neighbors=4)"
      ]
     },
     "execution_count": 14,
     "metadata": {},
     "output_type": "execute_result"
    }
   ],
   "source": [
    "from sklearn.neighbors import KNeighborsClassifier\n",
    "\n",
    "k = 4\n",
    "knnClassifier = KNeighborsClassifier(n_neighbors = k)\n",
    "knnClassifier = knnClassifier.fit(x_train, y_train)\n",
    "knnClassifier"
   ]
  },
  {
   "cell_type": "code",
   "execution_count": 15,
   "metadata": {},
   "outputs": [
    {
     "data": {
      "text/plain": [
       "array([1, 0, 0, ..., 0, 0, 0])"
      ]
     },
     "execution_count": 15,
     "metadata": {},
     "output_type": "execute_result"
    }
   ],
   "source": [
    "y_pred_knn = knnClassifier.predict(x_test)\n",
    "y_pred_knn"
   ]
  },
  {
   "cell_type": "markdown",
   "metadata": {},
   "source": [
    "### Accuracy Score"
   ]
  },
  {
   "cell_type": "code",
   "execution_count": 16,
   "metadata": {},
   "outputs": [
    {
     "name": "stdout",
     "output_type": "stream",
     "text": [
      "Training set accuracy: 0.87\n",
      "Test set accuracy: 0.81\n"
     ]
    }
   ],
   "source": [
    "train_accuracy_knn = accuracy_score(y_train, knnClassifier.predict(x_train))\n",
    "test_accuracy_knn = accuracy_score(y_test, y_pred_knn)\n",
    "\n",
    "print('Training set accuracy:', round(train_accuracy_knn, 2))\n",
    "print('Test set accuracy:', round(test_accuracy_knn, 2))"
   ]
  },
  {
   "cell_type": "markdown",
   "metadata": {},
   "source": [
    "The KNN classifer has a low accuracy in general. The classifer correctly predicted 87% of the training set y-values. However, the classifer only correctly predicts 81% of the y-values in the test set. This is higher than the decision tree classifier indicating that between the two classifiers, the KNN classifier would be better.\n",
    "But, this relatively low accuracy shows that the KNN classification is not the opitmal machine learning model for this dataset."
   ]
  },
  {
   "cell_type": "markdown",
   "metadata": {},
   "source": [
    "### Confusion Matrix"
   ]
  },
  {
   "cell_type": "code",
   "execution_count": 17,
   "metadata": {},
   "outputs": [
    {
     "name": "stdout",
     "output_type": "stream",
     "text": [
      "[[6446  524]\n",
      " [1216 1021]]\n"
     ]
    }
   ],
   "source": [
    "labels = [0,1]\n",
    "cm_knn = confusion_matrix(y_test, y_pred_knn, labels)\n",
    "print(cm_knn)"
   ]
  },
  {
   "cell_type": "markdown",
   "metadata": {},
   "source": [
    "Confusion matrix:\n",
    "\n",
    "                Actual 0.  Actual 1\n",
    "            \n",
    "    Predicted 0 [6446          524]\n",
    "\n",
    "    Predicted 1 [1216         1021]\n",
    "\n",
    "\n",
    "Accuracy= [Predicted 0 and Actual 0] # + [Predicted 1 and Actual 1] # / Total popullation\n",
    "        = 6446+1021/9207 = 0.811\n",
    "        \n",
    "Error= [Predicted 1 but Actual 0] # + [Predicted 0 and Actual 1] # / Total popullation\n",
    "     = 1216+524/9207 = 0.189\n",
    "     \n",
    "Precision= [Predicted 0 and Actual 0]/[Predicted 0 and Actual 0]+[Predicted 0 and Actual 1]\n",
    "         = 6446/6446+524 = 0.925\n",
    "         \n",
    "Recall= [Predicted 0 and Actual 0]/[Predicted 0 and Actual 0]+[Predicted 1 and Actual 0]\n",
    "      = 6446/6446+1216 = 0.841\n",
    "      \n",
    "Type I error= [Predicted 0 and Actual 1]= 524\n",
    "\n",
    "Type II error= [Predicted 1 and Actual 0]=1216"
   ]
  },
  {
   "cell_type": "code",
   "execution_count": 18,
   "metadata": {},
   "outputs": [
    {
     "data": {
      "image/png": "[encoded data removed]",
      "text/plain": [
       "<Figure size 432x288 with 2 Axes>"
      ]
     },
     "metadata": {
      "needs_background": "light"
     },
     "output_type": "display_data"
    }
   ],
   "source": [
    "group_names = ['True Neg', 'False Pos', 'False Neg', 'True Pos']\n",
    "group_counts = [\"{0:0.0f}\".format(value) for value in\n",
    "                cm_knn.flatten()]\n",
    "group_percentages = [\"{0:.2%}\".format(value) for value in\n",
    "                     cm_knn.flatten()/np.sum(cm_knn)]\n",
    "labels = [f\"{v1}\\n{v2}\\n{v3}\" for v1, v2, v3 in\n",
    "          zip(group_names,group_counts,group_percentages)]\n",
    "labels = np.asarray(labels).reshape(2,2)\n",
    "sns.heatmap(cm_knn, annot=labels, fmt='', cmap='Blues')\n",
    "\n",
    "plt.savefig('KNN_CM')"
   ]
  },
  {
   "cell_type": "markdown",
   "metadata": {},
   "source": [
    "In conclusion, after conducting exploratory data analysis, data cleaning, and data mining, and looking at the data evaluation scores, it seems that the KNN classifier is the better ML model, compared to the decision tree classifier. However, we would suggest to look and apply other classification models to check if a higher accuracy score can be received."
   ]
  }
 ],
 "metadata": {
  "kernelspec": {
   "display_name": "Python 3",
   "language": "python",
   "name": "python3"
  },
  "language_info": {
   "codemirror_mode": {
    "name": "ipython",
    "version": 3
   },
   "file_extension": ".py",
   "mimetype": "text/x-python",
   "name": "python",
   "nbconvert_exporter": "python",
   "pygments_lexer": "ipython3",
   "version": "3.6.8"
  }
 },
 "nbformat": 4,
 "nbformat_minor": 4
}
